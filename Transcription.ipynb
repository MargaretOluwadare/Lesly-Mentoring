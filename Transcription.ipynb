{
 "cells": [
  {
   "cell_type": "code",
   "execution_count": 3,
   "id": "5331235e",
   "metadata": {},
   "outputs": [
    {
     "name": "stderr",
     "output_type": "stream",
     "text": [
      "ERROR: Could not find a version that satisfies the requirement deepspeech (from versions: none)\n",
      "ERROR: No matching distribution found for deepspeech\n",
      "\n",
      "[notice] A new release of pip is available: 24.0 -> 24.3.1\n",
      "[notice] To update, run: python.exe -m pip install --upgrade pip\n"
     ]
    }
   ],
   "source": [
    "!pip install deepspeech"
   ]
  },
  {
   "cell_type": "code",
   "execution_count": 6,
   "id": "aaa2b563",
   "metadata": {},
   "outputs": [
    {
     "name": "stderr",
     "output_type": "stream",
     "text": [
      "Cloning into 'DeepSpeech'...\n",
      "Updating files:  34% (768/2205)\n",
      "Updating files:  35% (772/2205)\n",
      "Updating files:  36% (794/2205)\n",
      "Updating files:  37% (816/2205)\n",
      "Updating files:  38% (838/2205)\n",
      "Updating files:  39% (860/2205)\n",
      "Updating files:  40% (882/2205)\n",
      "Updating files:  41% (905/2205)\n",
      "Updating files:  42% (927/2205)\n",
      "Updating files:  43% (949/2205)\n",
      "Updating files:  44% (971/2205)\n",
      "Updating files:  45% (993/2205)\n",
      "Updating files:  46% (1015/2205)\n",
      "Updating files:  47% (1037/2205)\n",
      "Updating files:  48% (1059/2205)\n",
      "Updating files:  49% (1081/2205)\n",
      "Updating files:  50% (1103/2205)\n",
      "Updating files:  51% (1125/2205)\n",
      "Updating files:  52% (1147/2205)\n",
      "Updating files:  53% (1169/2205)\n",
      "Updating files:  54% (1191/2205)\n",
      "Updating files:  55% (1213/2205)\n",
      "Updating files:  56% (1235/2205)\n",
      "Updating files:  57% (1257/2205)\n",
      "Updating files:  58% (1279/2205)\n",
      "Updating files:  59% (1301/2205)\n",
      "Updating files:  60% (1323/2205)\n",
      "Updating files:  61% (1346/2205)\n",
      "Updating files:  62% (1368/2205)\n",
      "Updating files:  63% (1390/2205)\n",
      "Updating files:  64% (1412/2205)\n",
      "Updating files:  65% (1434/2205)\n",
      "Updating files:  66% (1456/2205)\n",
      "Updating files:  67% (1478/2205)\n",
      "Updating files:  68% (1500/2205)\n",
      "Updating files:  68% (1520/2205)\n",
      "Updating files:  69% (1522/2205)\n",
      "Updating files:  70% (1544/2205)\n",
      "Updating files:  71% (1566/2205)\n",
      "Updating files:  72% (1588/2205)\n",
      "Updating files:  73% (1610/2205)\n",
      "Updating files:  74% (1632/2205)\n",
      "Updating files:  75% (1654/2205)\n",
      "Updating files:  76% (1676/2205)\n",
      "Updating files:  77% (1698/2205)\n",
      "Updating files:  78% (1720/2205)\n",
      "Updating files:  79% (1742/2205)\n",
      "Updating files:  80% (1764/2205)\n",
      "Updating files:  81% (1787/2205)\n",
      "Updating files:  82% (1809/2205)\n",
      "Updating files:  83% (1831/2205)\n",
      "Updating files:  84% (1853/2205)\n",
      "Updating files:  85% (1875/2205)\n",
      "Updating files:  86% (1897/2205)\n",
      "Updating files:  87% (1919/2205)\n",
      "Updating files:  88% (1941/2205)\n",
      "Updating files:  89% (1963/2205)\n",
      "Updating files:  90% (1985/2205)\n",
      "Updating files:  91% (2007/2205)\n",
      "Updating files:  92% (2029/2205)\n",
      "Updating files:  93% (2051/2205)\n",
      "Updating files:  94% (2073/2205)\n",
      "Updating files:  95% (2095/2205)\n",
      "Updating files:  96% (2117/2205)\n",
      "Updating files:  97% (2139/2205)\n",
      "Updating files:  98% (2161/2205)\n",
      "Updating files:  99% (2183/2205)\n",
      "Updating files: 100% (2205/2205)\n",
      "Updating files: 100% (2205/2205), done.\n",
      "ERROR: Directory '.' is not installable. Neither 'setup.py' nor 'pyproject.toml' found.\n",
      "\n",
      "[notice] A new release of pip is available: 24.0 -> 24.3.1\n",
      "[notice] To update, run: python.exe -m pip install --upgrade pip\n"
     ]
    }
   ],
   "source": [
    "!git clone https://github.com/mozilla/DeepSpeech.git\n",
    "!cd DeepSpeech\n",
    "!pip install .\n"
   ]
  },
  {
   "cell_type": "code",
   "execution_count": 8,
   "id": "215e8099",
   "metadata": {},
   "outputs": [],
   "source": [
    "!cd DeepSpeech\n"
   ]
  },
  {
   "cell_type": "code",
   "execution_count": 9,
   "id": "15f962d3",
   "metadata": {},
   "outputs": [
    {
     "name": "stderr",
     "output_type": "stream",
     "text": [
      "ERROR: Directory '.' is not installable. Neither 'setup.py' nor 'pyproject.toml' found.\n",
      "\n",
      "[notice] A new release of pip is available: 24.0 -> 24.3.1\n",
      "[notice] To update, run: python.exe -m pip install --upgrade pip\n"
     ]
    }
   ],
   "source": [
    "!pip install ."
   ]
  },
  {
   "cell_type": "code",
   "execution_count": 10,
   "id": "db67b9e9",
   "metadata": {},
   "outputs": [
    {
     "name": "stderr",
     "output_type": "stream",
     "text": [
      "fatal: destination path 'DeepSpeech' already exists and is not an empty directory.\n"
     ]
    }
   ],
   "source": [
    "!git clone --recurse-submodules https://github.com/mozilla/DeepSpeech.git\n",
    "!cd DeepSpeech\n"
   ]
  },
  {
   "cell_type": "code",
   "execution_count": 12,
   "id": "30839e36",
   "metadata": {},
   "outputs": [
    {
     "name": "stdout",
     "output_type": "stream",
     "text": [
      " Volume in drive C has no label.\n",
      " Volume Serial Number is D6E0-B7CC\n",
      "\n",
      " Directory of C:\\Users\\hello\\Lesly-Mentoring\n",
      "\n",
      "11/29/2024  11:39 PM    <DIR>          .\n",
      "11/29/2024  11:39 PM    <DIR>          ..\n",
      "11/29/2024  11:29 PM    <DIR>          .ipynb_checkpoints\n",
      "11/15/2024  09:54 PM             8,029 address book.ipynb\n",
      "11/15/2024  09:53 PM               129 address_book.json\n",
      "11/29/2024  11:36 PM            44,811 AI_assistant.ipynb\n",
      "11/15/2024  10:45 PM               482 chatbot_answers.json\n",
      "11/15/2024  11:51 PM           116,513 Chatbot_w_DialoGPT.ipynb\n",
      "11/29/2024  11:33 PM    <DIR>          DeepSpeech\n",
      "11/16/2024  11:29 PM                63 email_credentials.json\n",
      "11/29/2024  10:52 PM         4,333,808 image_classifier.h5\n",
      "11/29/2024  11:22 PM            60,902 Image_reg_class.ipynb\n",
      "11/29/2024  11:12 PM    <DIR>          images\n",
      "11/15/2024  08:53 PM             7,169 LICENSE\n",
      "11/29/2024  08:32 PM    <DIR>          ml-100k\n",
      "11/15/2024  08:53 PM             1,234 README.md\n",
      "11/29/2024  10:21 PM            29,204 Recommendation_sys.ipynb\n",
      "11/15/2024  11:08 PM             5,246 Simple_Chatbot.ipynb\n",
      "11/29/2024  08:27 PM             6,047 Socialmedia_data_analysis.ipynb\n",
      "11/29/2024  11:39 PM             7,974 Untitled.ipynb\n",
      "11/16/2024  12:03 AM            22,769 Untitled1.ipynb\n",
      "11/16/2024  10:40 PM            15,709 Word_Char_Line_Counter.ipynb\n",
      "              16 File(s)      4,660,089 bytes\n",
      "               6 Dir(s)   2,850,009,088 bytes free\n"
     ]
    }
   ],
   "source": [
    "ls"
   ]
  },
  {
   "cell_type": "code",
   "execution_count": 7,
   "id": "017232e7",
   "metadata": {},
   "outputs": [
    {
     "ename": "ModuleNotFoundError",
     "evalue": "No module named 'deepspeech'",
     "output_type": "error",
     "traceback": [
      "\u001b[1;31m---------------------------------------------------------------------------\u001b[0m",
      "\u001b[1;31mModuleNotFoundError\u001b[0m                       Traceback (most recent call last)",
      "Cell \u001b[1;32mIn[7], line 1\u001b[0m\n\u001b[1;32m----> 1\u001b[0m \u001b[38;5;28;01mimport\u001b[39;00m \u001b[38;5;21;01mdeepspeech\u001b[39;00m\n\u001b[0;32m      2\u001b[0m \u001b[38;5;28;01mimport\u001b[39;00m \u001b[38;5;21;01mwave\u001b[39;00m\n\u001b[0;32m      3\u001b[0m \u001b[38;5;28;01mimport\u001b[39;00m \u001b[38;5;21;01mnumpy\u001b[39;00m \u001b[38;5;28;01mas\u001b[39;00m \u001b[38;5;21;01mnp\u001b[39;00m\n",
      "\u001b[1;31mModuleNotFoundError\u001b[0m: No module named 'deepspeech'"
     ]
    }
   ],
   "source": [
    "import deepspeech\n",
    "import wave\n",
    "import numpy as np\n",
    "\n",
    "# Load the pre-trained DeepSpeech model\n",
    "model_path = 'deepspeech-0.9.3-models.pbmm'  # Specify the correct path to your model file\n",
    "scorer_path = 'deepspeech-0.9.3-models.scorer'  # Specify the correct path to your scorer file\n",
    "\n",
    "# Initialize DeepSpeech model\n",
    "model = deepspeech.Model(model_path)\n",
    "model.enableExternalScorer(scorer_path)\n",
    "\n",
    "# Function to transcribe speech from an audio file\n",
    "def transcribe_audio(audio_path):\n",
    "    # Read the audio file\n",
    "    with wave.open(audio_path, 'rb') as wf:\n",
    "        # Ensure the audio file is in 16-bit mono format with a sample rate of 16kHz\n",
    "        assert wf.getnchannels() == 1\n",
    "        assert wf.getsampwidth() == 2\n",
    "        assert wf.getframerate() == 16000\n",
    "        \n",
    "        frames = wf.readframes(wf.getnframes())\n",
    "        audio_data = np.frombuffer(frames, dtype=np.int16)\n",
    "\n",
    "    # Run the speech recognition model\n",
    "    text = model.stt(audio_data)\n",
    "    \n",
    "    return text\n",
    "\n",
    "# Example usage\n",
    "if __name__ == '__main__':\n",
    "    audio_file = 'sample.wav'  # Path to your audio file\n",
    "    transcription = transcribe_audio(audio_file)\n",
    "    print(\"Transcription:\", transcription)\n"
   ]
  },
  {
   "cell_type": "code",
   "execution_count": null,
   "id": "7b23f848",
   "metadata": {},
   "outputs": [],
   "source": []
  }
 ],
 "metadata": {
  "kernelspec": {
   "display_name": "Python 3 (ipykernel)",
   "language": "python",
   "name": "python3"
  },
  "language_info": {
   "codemirror_mode": {
    "name": "ipython",
    "version": 3
   },
   "file_extension": ".py",
   "mimetype": "text/x-python",
   "name": "python",
   "nbconvert_exporter": "python",
   "pygments_lexer": "ipython3",
   "version": "3.11.5"
  }
 },
 "nbformat": 4,
 "nbformat_minor": 5
}
