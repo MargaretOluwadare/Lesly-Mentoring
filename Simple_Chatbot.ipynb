{
 "cells": [
  {
   "cell_type": "markdown",
   "id": "0efc38b7",
   "metadata": {},
   "source": [
    "## Simple Chatbot\n",
    "\n",
    "A simple chatbot that can answer questions based on predefined answers."
   ]
  },
  {
   "cell_type": "code",
   "execution_count": 2,
   "id": "0e85120c",
   "metadata": {},
   "outputs": [],
   "source": [
    "import random\n",
    "import json"
   ]
  },
  {
   "cell_type": "code",
   "execution_count": 3,
   "id": "0f4fe0a3",
   "metadata": {},
   "outputs": [],
   "source": [
    "# Predefined answers for the chatbot\n",
    "predefined_answers = {\n",
    "    \"hello\": [\"Hi there!\", \"Hello! How can I help you today?\", \"Hey! What's up?\"],\n",
    "    \"how are you\": [\"I'm just a program, but I'm functioning as expected!\", \"Doing great, thanks for asking!\"],\n",
    "    \"what is your name\": [\"I'm ChatBot, your virtual assistant.\", \"Call me ChatBot!\"],\n",
    "    \"bye\": [\"Goodbye! Have a great day!\", \"See you later!\", \"Take care!\"]\n",
    "}\n"
   ]
  },
  {
   "cell_type": "code",
   "execution_count": 4,
   "id": "343722bc",
   "metadata": {},
   "outputs": [],
   "source": [
    "# Save predefined answers to a file\n",
    "def save_answers_to_file():\n",
    "    with open('chatbot_answers.json', 'w') as file:\n",
    "        json.dump(predefined_answers, file, indent=4)\n",
    "\n",
    "# Load predefined answers from a file\n",
    "def load_answers_from_file():\n",
    "    try:\n",
    "        with open('chatbot_answers.json', 'r') as file:\n",
    "            return json.load(file)\n",
    "    except FileNotFoundError:\n",
    "        return predefined_answers\n",
    "\n",
    "# Function to get a response from the chatbot\n",
    "def get_response(user_input, answers):\n",
    "    user_input = user_input.lower()\n",
    "    for key in answers.keys():\n",
    "        if key in user_input:\n",
    "            return random.choice(answers[key])\n",
    "    return \"I'm sorry, I don't understand that. Can you rephrase?\"\n"
   ]
  },
  {
   "cell_type": "code",
   "execution_count": 5,
   "id": "1e1d496a",
   "metadata": {},
   "outputs": [
    {
     "name": "stdout",
     "output_type": "stream",
     "text": [
      "ChatBot: Hi! I'm here to chat. Type 'bye' to exit.\n",
      "You: hi\n",
      "ChatBot: I'm sorry, I don't understand that. Can you rephrase?\n",
      "You: hello\n",
      "ChatBot: Hi there!\n",
      "You: bye\n",
      "ChatBot: Goodbye! Have a nice day!\n"
     ]
    }
   ],
   "source": [
    "# Main chatbot function\n",
    "def chatbot():\n",
    "    print(\"ChatBot: Hi! I'm here to chat. Type 'bye' to exit.\")\n",
    "    answers = load_answers_from_file()\n",
    "\n",
    "    while True:\n",
    "        user_input = input(\"You: \").strip()\n",
    "        if user_input.lower() == \"bye\":\n",
    "            print(\"ChatBot: Goodbye! Have a nice day!\")\n",
    "            break\n",
    "        response = get_response(user_input, answers)\n",
    "        print(f\"ChatBot: {response}\")\n",
    "\n",
    "# Run the chatbot\n",
    "if __name__ == \"__main__\":\n",
    "    save_answers_to_file()  # Ensure the predefined answers are saved to a file\n",
    "    chatbot()\n"
   ]
  },
  {
   "cell_type": "code",
   "execution_count": 8,
   "id": "78221b35",
   "metadata": {},
   "outputs": [
    {
     "name": "stdout",
     "output_type": "stream",
     "text": [
      "Already up to date.\n"
     ]
    },
    {
     "name": "stderr",
     "output_type": "stream",
     "text": [
      "From https://github.com/MargaretOluwadare/Lesly-Mentoring\n",
      " * branch            main       -> FETCH_HEAD\n"
     ]
    }
   ],
   "source": [
    "!git pull origin main"
   ]
  },
  {
   "cell_type": "code",
   "execution_count": 10,
   "id": "7f6f05a5",
   "metadata": {},
   "outputs": [
    {
     "name": "stderr",
     "output_type": "stream",
     "text": [
      "fatal: pathspec 'Simple_Chatbot.ipynb' did not match any files\n"
     ]
    },
    {
     "name": "stdout",
     "output_type": "stream",
     "text": [
      "On branch main\n",
      "Your branch is up to date with 'origin/main'.\n",
      "\n",
      "Changes not staged for commit:\n",
      "  (use \"git add <file>...\" to update what will be committed)\n",
      "  (use \"git restore <file>...\" to discard changes in working directory)\n",
      "\tmodified:   address book.ipynb\n",
      "\n",
      "Untracked files:\n",
      "  (use \"git add <file>...\" to include in what will be committed)\n",
      "\t.ipynb_checkpoints/Simple Chatbot-checkpoint.ipynb\n",
      "\t.ipynb_checkpoints/Untitled-checkpoint.ipynb\n",
      "\tSimple Chatbot.ipynb\n",
      "\tUntitled.ipynb\n",
      "\tchatbot_answers.json\n",
      "\n",
      "no changes added to commit (use \"git add\" and/or \"git commit -a\")\n"
     ]
    },
    {
     "name": "stderr",
     "output_type": "stream",
     "text": [
      "Everything up-to-date\n"
     ]
    }
   ],
   "source": [
    "!git add Simple_Chatbot.ipynb\n",
    "!git commit -m \"Updated notebooks\"\n",
    "!git push origin main\n"
   ]
  },
  {
   "cell_type": "code",
   "execution_count": null,
   "id": "fb6767cb",
   "metadata": {},
   "outputs": [],
   "source": []
  }
 ],
 "metadata": {
  "kernelspec": {
   "display_name": "Python 3 (ipykernel)",
   "language": "python",
   "name": "python3"
  },
  "language_info": {
   "codemirror_mode": {
    "name": "ipython",
    "version": 3
   },
   "file_extension": ".py",
   "mimetype": "text/x-python",
   "name": "python",
   "nbconvert_exporter": "python",
   "pygments_lexer": "ipython3",
   "version": "3.11.5"
  }
 },
 "nbformat": 4,
 "nbformat_minor": 5
}
