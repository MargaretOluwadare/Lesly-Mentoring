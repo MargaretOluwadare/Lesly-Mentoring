{
 "cells": [
  {
   "cell_type": "markdown",
   "id": "1c2e162b",
   "metadata": {},
   "source": [
    "## Word_Char_Line_Counter\n",
    "\n",
    "A  Python program that takes a text file as input and counts the number of words, characters, and lines in the file.\n"
   ]
  },
  {
   "cell_type": "markdown",
   "id": "c31b8afc",
   "metadata": {},
   "source": [
    "### 1- Analyzing text and displaying word, character and line count"
   ]
  },
  {
   "cell_type": "code",
   "execution_count": 4,
   "id": "f1723d4b",
   "metadata": {},
   "outputs": [],
   "source": [
    "def analyze_text():\n",
    "    print(\"Enter your text (type 'END' on a new line to finish):\")\n",
    "    lines = []\n",
    "    \n",
    "    while True:\n",
    "        line = input()\n",
    "        if line == 'END':\n",
    "            break\n",
    "        lines.append(line)\n",
    "    \n",
    "    # Counting lines\n",
    "    line_count = len(lines)\n",
    "    \n",
    "    # Counting words and characters\n",
    "    word_count = 0\n",
    "    char_count = 0\n",
    "    for line in lines:\n",
    "        word_count += len(line.split())\n",
    "        char_count += len(line)\n",
    "    \n",
    "    print(\"\\n--- Analysis Results ---\")\n",
    "    print(f\"Lines: {line_count}\")\n",
    "    print(f\"Words: {word_count}\")\n",
    "    print(f\"Characters: {char_count}\")\n"
   ]
  },
  {
   "cell_type": "code",
   "execution_count": 5,
   "id": "4bd6539c",
   "metadata": {},
   "outputs": [
    {
     "name": "stdout",
     "output_type": "stream",
     "text": [
      "Enter your text (type 'END' on a new line to finish):\n",
      "What is Alzheimer? Alzheimer disease is the most common form Dementia and may contribute to 60–70% of cases. Dementia is a syndrome that can be caused by a number of diseases which over time destroy nerve cells and damage the brain, typically leading to deterioration in cognitive function (i.e. the ability to process thought) beyond what might be expected from the usual consequences of biological ageing. While consciousness is not affected, the impairment in cognitive function is commonly accompanied, and occasionally preceded, by changes in mood, emotional control, behaviour, or motivation.[ https://www.who.int/news-room/fact-sheets/detail/dementia ]  STATS Dementia has physical, psychological, social and economic impacts, not only for people living with dementia, but also for their carers, families and society at large. Medical files of neurological consultations of the two main teaching hospitals of Yaounde were considered for a 9-year period ranging from 1993 to 2001. Clinical and epidemiological data were recorded for each patient. Results: Degenerative brain disorders accounted for 3.9% of consultations during the study period. Of the 84 patients received for degenerative disorders, 62 (73.8%) were men. Their age ranged from 9 to 84 years, with a mean of 54.16 years. The main degenerative diseases recorded were the following: Parkinson disease (48.8%), chorea (20.2%), dementia (19%) and amyotrophic lateral sclerosis (12%). Conclusion: Degenerative brain disorders are not rare in our setting. [https://www.semanticscholar.org/paper/Epidemiological-Features-of-Degenerative-Brain-as-a-Kengne-Dzudie/960942f1d3bc1e40359f3a9771a78666caf11704]  Alzheimer has no definitive cure but if detected earlier could slowdown the progression of symptoms, improve quality of life and better prepare patients.However, late diagnosis can lead to more sever impairement  Progression Rates: Studies have shown that individuals with mild cognitive impairment (MCI) due to Alzheimer's disease progress to Alzheimer's dementia at varying rates. Approximately 10% to 15% of those with amnestic MCI progress to Alzheimer's dementia annually.  Benefits of Early Detection: Accurate diagnosis of MCI due to Alzheimer's disease, prior to the development of dementia, is --crucial in identifying individuals who might benefit from early treatment. Initiation of treatment earlier in the disease process may also be associated with lower overall health care costs, as progression to dementia and the need for costly assisted living, nursing home, and other types of residential care is postponed.  Case Study Alzheimer's disease, a leading cause of dementia, is a growing concern in Cameroon, reflecting global trends. While specific national prevalence data are limited, studies from sub-Saharan Africa provide valuable insights.  Prevalence in Sub-Saharan Africa A 2017 report by Alzheimer's Disease International estimated that approximately 2.13 million people were living with dementia in sub-Saharan Africa in 2015, with numbers projected to nearly double every 20 years, reaching 3.48 million by 2030 and 7.62 million by 2050. ALZHEIMER'S INTERNET RESOURCES  Prevalence in Cameroon In Cameroon, a study conducted in 2023 aimed to determine the prevalence and associated factors of cognitive impairment and dementia among older adults. The study found that the prevalence of dementia was 6.3%, with Alzheimer's disease being the most common subtype.  [ https://www.jns-journal.com/article/S0022-510X%2823%2900846-8/fulltext ]  Alzheimer's disease can be detected through a combination of medical evaluations, cognitive assessments, imaging techniques, and laboratory tests. Early detection is crucial for managing symptoms and improving quality of life. Here's a comprehensive guide to how Alzheimer’s can be detected:  1. Clinical Symptoms and Medical History Symptoms to Watch For: Memory loss affecting daily life (e.g., forgetting recent events or appointments). Difficulty completing familiar tasks (e.g., managing finances or cooking). Confusion with time or place. Changes in mood, behavior, or personality. Medical History: Reviewing family history, medications, and any history of strokes, head injuries, or other conditions. 2. Cognitive and Neuropsychological Tests Common Tests: Mini-Mental State Examination (MMSE): Measures cognitive function. Montreal Cognitive Assessment (MoCA): Assesses memory, attention, and executive functions. Clock Drawing Test: Evaluates visuospatial and executive functions. Purpose: To identify memory impairments, problem-solving difficulties, or language challenges. 3. Imaging Techniques Magnetic Resonance Imaging (MRI): Detects brain shrinkage, particularly in the hippocampus (a region involved in memory). Useful for ruling out other conditions like strokes or tumors. Computed Tomography (CT) Scan: Identifies structural abnormalities in the brain.\n",
      "end\n",
      "END\n",
      "\n",
      "--- Analysis Results ---\n",
      "Lines: 2\n",
      "Words: 664\n",
      "Characters: 4910\n"
     ]
    }
   ],
   "source": [
    "if __name__ == \"__main__\":\n",
    "    analyze_text()"
   ]
  },
  {
   "cell_type": "markdown",
   "id": "c6a8d371",
   "metadata": {},
   "source": [
    "### 2- Uploading a .txt file path"
   ]
  },
  {
   "cell_type": "code",
   "execution_count": 7,
   "id": "3b55f517",
   "metadata": {},
   "outputs": [
    {
     "name": "stdout",
     "output_type": "stream",
     "text": [
      "Enter the path of the text file: C:\\Users\\hello\\OneDrive\\Documents\\text.txt\n",
      "\n",
      "--- Analysis Results ---\n",
      "Lines: 46\n",
      "Words: 663\n",
      "Characters: 4907\n"
     ]
    }
   ],
   "source": [
    "def analyze_text_file(file_path):\n",
    "    try:\n",
    "        with open(file_path, 'r', encoding='utf-8') as file:\n",
    "            lines = file.readlines()\n",
    "\n",
    "        # Counting lines\n",
    "        line_count = len(lines)\n",
    "\n",
    "        # Counting words and characters\n",
    "        word_count = 0\n",
    "        char_count = 0\n",
    "        for line in lines:\n",
    "            word_count += len(line.split())\n",
    "            char_count += len(line)\n",
    "\n",
    "        print(\"\\n--- Analysis Results ---\")\n",
    "        print(f\"Lines: {line_count}\")\n",
    "        print(f\"Words: {word_count}\")\n",
    "        print(f\"Characters: {char_count}\")\n",
    "\n",
    "    except FileNotFoundError:\n",
    "        print(\"Error: File not found\")\n",
    "    except Exception as e:\n",
    "        print(f\"An error occurred: {e}\")\n",
    "\n",
    "if __name__ == \"__main__\":\n",
    "    file_path = input(\"Enter the path of the text file: \").strip()\n",
    "    analyze_text_file(file_path)\n"
   ]
  },
  {
   "cell_type": "code",
   "execution_count": null,
   "id": "98e63fc0",
   "metadata": {},
   "outputs": [],
   "source": [
    "###"
   ]
  },
  {
   "cell_type": "code",
   "execution_count": 8,
   "id": "19ca04ce",
   "metadata": {},
   "outputs": [
    {
     "name": "stdout",
     "output_type": "stream",
     "text": [
      "Collecting python-docx\n",
      "  Downloading python_docx-1.1.2-py3-none-any.whl.metadata (2.0 kB)\n",
      "Collecting PyPDF2\n",
      "  Downloading pypdf2-3.0.1-py3-none-any.whl.metadata (6.8 kB)\n",
      "Requirement already satisfied: lxml>=3.1.0 in c:\\users\\hello\\anaconda3\\lib\\site-packages (from python-docx) (4.9.3)\n",
      "Requirement already satisfied: typing-extensions>=4.9.0 in c:\\users\\hello\\appdata\\roaming\\python\\python311\\site-packages (from python-docx) (4.9.0)\n",
      "Downloading python_docx-1.1.2-py3-none-any.whl (244 kB)\n",
      "   ---------------------------------------- 0.0/244.3 kB ? eta -:--:--\n",
      "   - -------------------------------------- 10.2/244.3 kB ? eta -:--:--\n",
      "   - -------------------------------------- 10.2/244.3 kB ? eta -:--:--\n",
      "   ---- ---------------------------------- 30.7/244.3 kB 325.1 kB/s eta 0:00:01\n",
      "   ------ -------------------------------- 41.0/244.3 kB 245.8 kB/s eta 0:00:01\n",
      "   ------------- ------------------------- 81.9/244.3 kB 416.7 kB/s eta 0:00:01\n",
      "   -------------- ------------------------ 92.2/244.3 kB 435.7 kB/s eta 0:00:01\n",
      "   ------------------- ------------------ 122.9/244.3 kB 450.6 kB/s eta 0:00:01\n",
      "   ------------------------------ ------- 194.6/244.3 kB 588.9 kB/s eta 0:00:01\n",
      "   ------------------------------------ - 235.5/244.3 kB 654.9 kB/s eta 0:00:01\n",
      "   -------------------------------------- 244.3/244.3 kB 624.2 kB/s eta 0:00:00\n",
      "Downloading pypdf2-3.0.1-py3-none-any.whl (232 kB)\n",
      "   ---------------------------------------- 0.0/232.6 kB ? eta -:--:--\n",
      "   ---------------------- ----------------- 133.1/232.6 kB 4.0 MB/s eta 0:00:01\n",
      "   ---------------------------------------- 232.6/232.6 kB 3.6 MB/s eta 0:00:00\n",
      "Installing collected packages: python-docx, PyPDF2\n",
      "Successfully installed PyPDF2-3.0.1 python-docx-1.1.2\n"
     ]
    },
    {
     "name": "stderr",
     "output_type": "stream",
     "text": [
      "\n",
      "[notice] A new release of pip is available: 24.0 -> 24.3.1\n",
      "[notice] To update, run: python.exe -m pip install --upgrade pip\n"
     ]
    }
   ],
   "source": [
    "!pip install python-docx PyPDF2"
   ]
  },
  {
   "cell_type": "code",
   "execution_count": null,
   "id": "3fa5984c",
   "metadata": {},
   "outputs": [],
   "source": [
    "from docx import Document\n",
    "import PyPDF2\n",
    "import os"
   ]
  },
  {
   "cell_type": "code",
   "execution_count": null,
   "id": "2056f664",
   "metadata": {},
   "outputs": [],
   "source": [
    "def analyze_text_file(file_path):\n",
    "    try:\n",
    "        # Check the file extension\n",
    "        _, file_extension = os.path.splitext(file_path)\n",
    "        \n",
    "        if file_extension == \".txt\":\n",
    "            with open(file_path, 'r', encoding='utf-8') as file:\n",
    "                lines = file.readlines()\n",
    "        elif file_extension == \".docx\":\n",
    "            doc = Document(file_path)\n",
    "            lines = [paragraph.text for paragraph in doc.paragraphs]\n",
    "        elif file_extension == \".pdf\":\n",
    "            with open(file_path, 'rb') as file:\n",
    "                pdf_reader = PyPDF2.PdfReader(file)\n",
    "                lines = [page.extract_text() for page in pdf_reader.pages]\n",
    "        else:\n",
    "            print(\"Error: Unsupported file format. Please provide a .txt, .docx, or .pdf file.\")\n",
    "            return\n",
    "\n",
    "        # Counting lines\n",
    "        line_count = len(lines)\n",
    "\n",
    "        # Counting words and characters\n",
    "        word_count = 0\n",
    "        char_count = 0\n",
    "        for line in lines:\n",
    "            word_count += len(line.split())\n",
    "            char_count += len(line)\n",
    "\n",
    "        print(\"\\n--- Analysis Results ---\")\n",
    "        print(f\"Lines: {line_count}\")\n",
    "        print(f\"Words: {word_count}\")\n",
    "        print(f\"Characters: {char_count}\")\n",
    "\n",
    "    except FileNotFoundError:\n",
    "        print(\"Error: File not found.\")\n",
    "    except Exception as e:\n",
    "        print(f\"An error occurred: {e}\")\n",
    "\n",
    "if __name__ == \"__main__\":\n",
    "    file_path = input(\"Enter the path of the file (.txt, .docx, .pdf): \").strip()\n",
    "    analyze_text_file(file_path)\n"
   ]
  },
  {
   "cell_type": "code",
   "execution_count": null,
   "id": "6ff0ceb5",
   "metadata": {},
   "outputs": [],
   "source": [
    "!git pull origin main"
   ]
  },
  {
   "cell_type": "code",
   "execution_count": null,
   "id": "88c9321b",
   "metadata": {},
   "outputs": [],
   "source": [
    "!git add Word_Char_Line_Counter.ipynb\n",
    "!git commit -m \"Updated notebooks\"\n",
    "!git push origin main\n"
   ]
  },
  {
   "cell_type": "code",
   "execution_count": null,
   "id": "64f663bd",
   "metadata": {},
   "outputs": [],
   "source": []
  }
 ],
 "metadata": {
  "kernelspec": {
   "display_name": "Python 3 (ipykernel)",
   "language": "python",
   "name": "python3"
  },
  "language_info": {
   "codemirror_mode": {
    "name": "ipython",
    "version": 3
   },
   "file_extension": ".py",
   "mimetype": "text/x-python",
   "name": "python",
   "nbconvert_exporter": "python",
   "pygments_lexer": "ipython3",
   "version": "3.11.5"
  }
 },
 "nbformat": 4,
 "nbformat_minor": 5
}
