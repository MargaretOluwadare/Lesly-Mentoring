{
 "cells": [
  {
   "cell_type": "markdown",
   "id": "6df4cc97",
   "metadata": {},
   "source": [
    "## Address book\n",
    "A program that allows the user to store and manage contacts in an address book."
   ]
  },
  {
   "cell_type": "code",
   "execution_count": 2,
   "id": "0eb8ad1f",
   "metadata": {},
   "outputs": [],
   "source": [
    "import json\n",
    "\n",
    "# File to store the contacts\n",
    "filename = \"address_book.json\""
   ]
  },
  {
   "cell_type": "code",
   "execution_count": 10,
   "id": "42ab2df5",
   "metadata": {},
   "outputs": [],
   "source": [
    "def load_contacts():\n",
    "    try:\n",
    "        with open(filename, 'r') as file:\n",
    "            return json.load(file)\n",
    "    except (FileNotFoundError, json.JSONDecodeError):\n",
    "        return {}\n",
    "\n",
    "# Function to save contacts to the file\n",
    "def Save(contacts):\n",
    "    with open(FILE_NAME, 'w') as file:\n",
    "        json.dump(contacts, file, indent=4)\n",
    "\n",
    "# Function to display the menu\n",
    "def display_menu():\n",
    "    print(\"\\nAddress Book Menu:\")\n",
    "    print(\"1. Add\")\n",
    "    print(\"2. View All\")\n",
    "    print(\"3. Search\")\n",
    "    print(\"4. Edit\")\n",
    "    print(\"5. Delete\")\n",
    "    print(\"6. Save\")"
   ]
  },
  {
   "cell_type": "code",
   "execution_count": 11,
   "id": "2c74906a",
   "metadata": {},
   "outputs": [],
   "source": [
    "# Function to add a new contact\n",
    "def Add(contacts):\n",
    "    name = input(\"Enter Name: \").strip()\n",
    "    if name in contacts:\n",
    "        print(\"Contact already exists.\")\n",
    "        return\n",
    "    phone = input(\"Enter Phone Number: \").strip()\n",
    "    contacts[name] = {\"Phone\": phone}\n",
    "    print(f\"Contact '{name}' added.\")\n"
   ]
  },
  {
   "cell_type": "code",
   "execution_count": 12,
   "id": "9860606c",
   "metadata": {},
   "outputs": [],
   "source": [
    "# Function to view all contacts\n",
    "def View(contacts):\n",
    "    if not contacts:\n",
    "        print(\"No contacts found.\")\n",
    "        return\n",
    "    print(\"\\nContacts:\")\n",
    "    for name, details in contacts.items():\n",
    "        print(f\"Name: {name}, Phone: {details['Phone']}\")\n"
   ]
  },
  {
   "cell_type": "code",
   "execution_count": 13,
   "id": "bdfe0ab1",
   "metadata": {},
   "outputs": [],
   "source": [
    "# Function to search for a contact\n",
    "def Search(contacts):\n",
    "    name = input(\"Enter Name to Search: \").strip()\n",
    "    if name in contacts:\n",
    "        details = contacts[name]\n",
    "        print(f\"Found Contact - Name: {name}, Phone: {details['Phone']}\")\n",
    "    else:\n",
    "        print(\"Contact not found.\")"
   ]
  },
  {
   "cell_type": "code",
   "execution_count": 14,
   "id": "c10f98f1",
   "metadata": {},
   "outputs": [],
   "source": [
    "# Function to edit an existing contact\n",
    "def Edit(contacts):\n",
    "    name = input(\"Enter Name to Update: \").strip()\n",
    "    if name not in contacts:\n",
    "        print(\"Contact not found.\")\n",
    "        return\n",
    "    print(f\"Updating Contact - Name: {name}, Current Details: Phone: {contacts[name]['Phone']}\")\n",
    "    phone = input(int(\"Enter New Phone Number (leave blank to keep current): \")).strip()\n",
    "    if phone:\n",
    "        contacts[name]['Phone'] = phone\n",
    "    print(f\"Contact '{name}' updated.\")"
   ]
  },
  {
   "cell_type": "code",
   "execution_count": 15,
   "id": "daca1c2d",
   "metadata": {},
   "outputs": [],
   "source": [
    "# Function to delete a contact\n",
    "def Delete(contacts):\n",
    "    name = input(\"Enter Name to Delete: \").strip()\n",
    "    if name in contacts:\n",
    "        del contacts[name]\n",
    "        print(f\"Contact '{name}' deleted.\")\n",
    "    else:\n",
    "        print(\"Contact not found.\")"
   ]
  },
  {
   "cell_type": "code",
   "execution_count": null,
   "id": "c6cb7cfd",
   "metadata": {},
   "outputs": [
    {
     "name": "stdout",
     "output_type": "stream",
     "text": [
      "\n",
      "Address Book Menu:\n",
      "1. Add\n",
      "2. View All\n",
      "3. Search\n",
      "4. Edit\n",
      "5. Delete\n",
      "6. Save\n",
      "Choose an option: Roxanne\n",
      "Invalid choice. Please try again.\n",
      "\n",
      "Address Book Menu:\n",
      "1. Add\n",
      "2. View All\n",
      "3. Search\n",
      "4. Edit\n",
      "5. Delete\n",
      "6. Save\n",
      "Choose an option: 1\n",
      "Enter Name: Roxanne\n",
      "Enter Phone Number: 3\n",
      "Contact 'Roxanne' added.\n",
      "\n",
      "Address Book Menu:\n",
      "1. Add\n",
      "2. View All\n",
      "3. Search\n",
      "4. Edit\n",
      "5. Delete\n",
      "6. Save\n"
     ]
    }
   ],
   "source": [
    "def main():\n",
    "    contacts = load_contacts()\n",
    "\n",
    "    while True:\n",
    "        display_menu()\n",
    "        choice = input(\"Choose an option: \").strip()\n",
    "        if choice == '1':\n",
    "            Add(contacts)\n",
    "        elif choice == '2':\n",
    "            View(contacts)\n",
    "        elif choice == '3':\n",
    "            Search(contacts)\n",
    "        elif choice == '4':\n",
    "            Edit(contacts)\n",
    "        elif choice == '5':\n",
    "            Delete(contacts)\n",
    "        elif choice == '6':\n",
    "            Save(contacts)\n",
    "            print(\"Contact saved sucessfully!\")\n",
    "            break\n",
    "        else:\n",
    "            print(\"Invalid choice. Please try again.\")\n",
    "\n",
    "# Run the program\n",
    "if __name__ == \"__main__\":\n",
    "    main()"
   ]
  },
  {
   "cell_type": "code",
   "execution_count": null,
   "id": "f03dd104",
   "metadata": {},
   "outputs": [],
   "source": []
  },
  {
   "cell_type": "code",
   "execution_count": 1,
   "id": "7b108372",
   "metadata": {},
   "outputs": [
    {
     "name": "stdout",
     "output_type": "stream",
     "text": [
      "Already up to date.\n"
     ]
    },
    {
     "name": "stderr",
     "output_type": "stream",
     "text": [
      "From https://github.com/MargaretOluwadare/Lesly-Mentoring\n",
      " * branch            main       -> FETCH_HEAD\n"
     ]
    }
   ],
   "source": [
    "!git pull origin main"
   ]
  },
  {
   "cell_type": "code",
   "execution_count": 25,
   "id": "123cf8dc",
   "metadata": {},
   "outputs": [
    {
     "name": "stderr",
     "output_type": "stream",
     "text": [
      "warning: in the working copy of 'Gits Know how.ipynb', LF will be replaced by CRLF the next time Git touches it\n",
      "warning: in the working copy of '.ipynb_checkpoints/address book-checkpoint.ipynb', LF will be replaced by CRLF the next time Git touches it\n",
      "warning: adding embedded git repository: Lesly-Mentoring\n",
      "hint: You've added another git repository inside your current repository.\n",
      "hint: Clones of the outer repository will not contain the contents of\n",
      "hint: the embedded repository and will not know how to obtain it.\n",
      "hint: If you meant to add a submodule, use:\n",
      "hint:\n",
      "hint: \tgit submodule add <url> Lesly-Mentoring\n",
      "hint:\n",
      "hint: If you added this path by mistake, you can remove it from the\n",
      "hint: index with:\n",
      "hint:\n",
      "hint: \tgit rm --cached Lesly-Mentoring\n",
      "hint:\n",
      "hint: See \"git help submodule\" for more information.\n",
      "hint: Disable this message with \"git config advice.addEmbeddedRepo false\"\n",
      "warning: in the working copy of 'address book.ipynb', LF will be replaced by CRLF the next time Git touches it\n"
     ]
    },
    {
     "name": "stdout",
     "output_type": "stream",
     "text": [
      "[main a7abbfc] Updated notebooks\n",
      " 5 files changed, 564 insertions(+), 6 deletions(-)\n",
      " create mode 100644 .ipynb_checkpoints/address book-checkpoint.ipynb\n",
      " create mode 160000 Lesly-Mentoring\n",
      " create mode 100644 address book.ipynb\n",
      " create mode 100644 address_book.json\n"
     ]
    },
    {
     "name": "stderr",
     "output_type": "stream",
     "text": [
      "To https://github.com/mahagueheme-Lesly/AnitaB.org-1-1-Mentorship.git\n",
      "   1153155..a7abbfc  main -> main\n"
     ]
    }
   ],
   "source": [
    "!git add address book.ipynb\n",
    "!git commit -m \"Updated notebooks\"\n",
    "!git push origin main"
   ]
  },
  {
   "cell_type": "code",
   "execution_count": null,
   "id": "92e7a5e6",
   "metadata": {},
   "outputs": [],
   "source": []
  }
 ],
 "metadata": {
  "kernelspec": {
   "display_name": "Python 3 (ipykernel)",
   "language": "python",
   "name": "python3"
  },
  "language_info": {
   "codemirror_mode": {
    "name": "ipython",
    "version": 3
   },
   "file_extension": ".py",
   "mimetype": "text/x-python",
   "name": "python",
   "nbconvert_exporter": "python",
   "pygments_lexer": "ipython3",
   "version": "3.11.5"
  }
 },
 "nbformat": 4,
 "nbformat_minor": 5
}
